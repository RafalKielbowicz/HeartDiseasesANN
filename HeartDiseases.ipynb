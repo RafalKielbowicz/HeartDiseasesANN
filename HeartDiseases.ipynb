{
  "nbformat": 4,
  "nbformat_minor": 0,
  "metadata": {
    "colab": {
      "name": "HeartDiseases.ipynb",
      "provenance": [],
      "collapsed_sections": [],
      "toc_visible": true,
      "authorship_tag": "ABX9TyMR0jYfxth0Nxq6sgODS2J5"
    },
    "kernelspec": {
      "name": "python3",
      "display_name": "Python 3"
    }
  },
  "cells": [
    {
      "cell_type": "code",
      "metadata": {
        "id": "wsLRjyrTmd13",
        "colab_type": "code",
        "colab": {}
      },
      "source": [
        "import numpy as np\n",
        "import pandas as pd\n",
        "import tensorflow as tf"
      ],
      "execution_count": 19,
      "outputs": []
    },
    {
      "cell_type": "code",
      "metadata": {
        "id": "tX6n8psangNq",
        "colab_type": "code",
        "colab": {}
      },
      "source": [
        "dataset = pd.read_csv('HeartAttack_DataSet_Comma.csv')\n",
        "X = dataset.iloc[:, 1:-1].values\n",
        "y = dataset.iloc[:, -1].values"
      ],
      "execution_count": 20,
      "outputs": []
    },
    {
      "cell_type": "code",
      "metadata": {
        "id": "oqwin6nPsk-d",
        "colab_type": "code",
        "colab": {
          "base_uri": "https://localhost:8080/",
          "height": 138
        },
        "outputId": "8665627a-e69e-4ae2-a1d7-ad4bc2260c90"
      },
      "source": [
        "print(X)"
      ],
      "execution_count": 21,
      "outputs": [
        {
          "output_type": "stream",
          "text": [
            "[[63 'Male' 'Asymptomatic' ... 'Upsloping' 0 'Normal']\n",
            " [37 'Male' 'Non-anginal pain' ... 'Upsloping' 0 'Fixed defect']\n",
            " [41 'Female' 'Atypical Angina' ... 'Downsloping' 0 'Fixed defect']\n",
            " ...\n",
            " [68 'Male' 'Typical Angina' ... 'Flat' 2 'Reversable defect']\n",
            " [57 'Male' 'Typical Angina' ... 'Flat' 1 'Reversable defect']\n",
            " [57 'Female' 'Atypical Angina' ... 'Flat' 1 'Fixed defect']]\n"
          ],
          "name": "stdout"
        }
      ]
    },
    {
      "cell_type": "code",
      "metadata": {
        "id": "LeKiXroF4cR-",
        "colab_type": "code",
        "colab": {
          "base_uri": "https://localhost:8080/",
          "height": 173
        },
        "outputId": "191c2cb4-2f20-45e3-ee2a-7ef29e0f1fb6"
      },
      "source": [
        "print(y)"
      ],
      "execution_count": 22,
      "outputs": [
        {
          "output_type": "stream",
          "text": [
            "[1 1 1 1 1 1 1 1 1 1 1 1 1 1 1 1 1 1 1 1 1 1 1 1 1 1 1 1 1 1 1 1 1 1 1 1 1\n",
            " 1 1 1 1 1 1 1 1 1 1 1 1 1 1 1 1 1 1 1 1 1 1 1 1 1 1 1 1 1 1 1 1 1 1 1 1 1\n",
            " 1 1 1 1 1 1 1 1 1 1 1 1 1 1 1 1 1 1 1 1 1 1 1 1 1 1 1 1 1 1 1 1 1 1 1 1 1\n",
            " 1 1 1 1 1 1 1 1 1 1 1 1 1 1 1 1 1 1 1 1 1 1 1 1 1 1 1 1 1 1 1 1 1 1 1 1 1\n",
            " 1 1 1 1 1 1 1 1 1 1 1 1 1 1 1 1 1 0 0 0 0 0 0 0 0 0 0 0 0 0 0 0 0 0 0 0 0\n",
            " 0 0 0 0 0 0 0 0 0 0 0 0 0 0 0 0 0 0 0 0 0 0 0 0 0 0 0 0 0 0 0 0 0 0 0 0 0\n",
            " 0 0 0 0 0 0 0 0 0 0 0 0 0 0 0 0 0 0 0 0 0 0 0 0 0 0 0 0 0 0 0 0 0 0 0 0 0\n",
            " 0 0 0 0 0 0 0 0 0 0 0 0 0 0 0 0 0 0 0 0 0 0 0 0 0 0 0 0 0 0 0 0 0 0 0 0 0\n",
            " 0 0 0 0 0 0 0]\n"
          ],
          "name": "stdout"
        }
      ]
    },
    {
      "cell_type": "code",
      "metadata": {
        "id": "aZcYJ0vV7Ga9",
        "colab_type": "code",
        "colab": {}
      },
      "source": [
        "from sklearn.preprocessing import LabelEncoder\n",
        "le = LabelEncoder()\n",
        "X[:,1] = le.fit_transform(X[:,1])"
      ],
      "execution_count": 23,
      "outputs": []
    },
    {
      "cell_type": "code",
      "metadata": {
        "id": "RBl9wW_N7hAn",
        "colab_type": "code",
        "colab": {
          "base_uri": "https://localhost:8080/",
          "height": 138
        },
        "outputId": "309bbd48-e367-461b-da1b-c455b8b2d043"
      },
      "source": [
        "print(X)"
      ],
      "execution_count": 24,
      "outputs": [
        {
          "output_type": "stream",
          "text": [
            "[[63 1 'Asymptomatic' ... 'Upsloping' 0 'Normal']\n",
            " [37 1 'Non-anginal pain' ... 'Upsloping' 0 'Fixed defect']\n",
            " [41 0 'Atypical Angina' ... 'Downsloping' 0 'Fixed defect']\n",
            " ...\n",
            " [68 1 'Typical Angina' ... 'Flat' 2 'Reversable defect']\n",
            " [57 1 'Typical Angina' ... 'Flat' 1 'Reversable defect']\n",
            " [57 0 'Atypical Angina' ... 'Flat' 1 'Fixed defect']]\n"
          ],
          "name": "stdout"
        }
      ]
    },
    {
      "cell_type": "code",
      "metadata": {
        "id": "R8V8R9KE8qS4",
        "colab_type": "code",
        "colab": {}
      },
      "source": [
        "from sklearn.compose import ColumnTransformer\n",
        "from sklearn.preprocessing import OneHotEncoder\n",
        "ct = ColumnTransformer(transformers=[('encoder', OneHotEncoder(), [2, 6, 10, 12])], remainder = 'passthrough')\n",
        "X = np.array(ct.fit_transform(X))\n"
      ],
      "execution_count": 26,
      "outputs": []
    },
    {
      "cell_type": "code",
      "metadata": {
        "id": "Do-MDHNO87cb",
        "colab_type": "code",
        "colab": {
          "base_uri": "https://localhost:8080/",
          "height": 138
        },
        "outputId": "faf7d630-fec6-4409-8970-e237dafb418c"
      },
      "source": [
        "print(X)"
      ],
      "execution_count": 27,
      "outputs": [
        {
          "output_type": "stream",
          "text": [
            "[[1.0 0.0 0.0 ... 0 2.3 0]\n",
            " [0.0 1.0 1.0 ... 0 3.5 0]\n",
            " [1.0 0.0 0.0 ... 0 1.4 0]\n",
            " ...\n",
            " [1.0 0.0 1.0 ... 0 3.4 2]\n",
            " [1.0 0.0 1.0 ... 1 1.2 1]\n",
            " [1.0 0.0 0.0 ... 0 0.0 1]]\n"
          ],
          "name": "stdout"
        }
      ]
    },
    {
      "cell_type": "code",
      "metadata": {
        "id": "Uocdr7MkAKYr",
        "colab_type": "code",
        "colab": {}
      },
      "source": [
        "from sklearn.model_selection import train_test_split\n",
        "X_train, X_test, y_train, y_test = train_test_split(X, y, test_size = 0.2, random_state = 0)"
      ],
      "execution_count": 28,
      "outputs": []
    },
    {
      "cell_type": "code",
      "metadata": {
        "id": "IYHO-0OlARp4",
        "colab_type": "code",
        "colab": {}
      },
      "source": [
        "from sklearn.preprocessing import StandardScaler\n",
        "sc = StandardScaler()\n",
        "X_train = sc.fit_transform(X_train)\n",
        "X_test = sc.transform(X_test)"
      ],
      "execution_count": 30,
      "outputs": []
    },
    {
      "cell_type": "code",
      "metadata": {
        "id": "lJlhJh1BAj76",
        "colab_type": "code",
        "colab": {}
      },
      "source": [
        "ann = tf.keras.models.Sequential()\n"
      ],
      "execution_count": 32,
      "outputs": []
    },
    {
      "cell_type": "code",
      "metadata": {
        "id": "f-LswAIbAXrK",
        "colab_type": "code",
        "colab": {}
      },
      "source": [
        "ann.add(tf.keras.layers.Dense(units = 7, activation = 'relu'))\n",
        "ann.add(tf.keras.layers.Dense(units = 7, activation = 'relu'))"
      ],
      "execution_count": 33,
      "outputs": []
    },
    {
      "cell_type": "code",
      "metadata": {
        "id": "pxO4DErAAZn7",
        "colab_type": "code",
        "colab": {}
      },
      "source": [
        "ann.add(tf.keras.layers.Dense(units = 1, activation = 'sigmoid'))"
      ],
      "execution_count": 34,
      "outputs": []
    },
    {
      "cell_type": "code",
      "metadata": {
        "id": "jVqTsgtTAa-5",
        "colab_type": "code",
        "colab": {}
      },
      "source": [
        "ann.compile(optimizer = 'adam', loss = 'binary_crossentropy', metrics = ['accuracy'])"
      ],
      "execution_count": 35,
      "outputs": []
    },
    {
      "cell_type": "code",
      "metadata": {
        "id": "_LSd77alAcec",
        "colab_type": "code",
        "colab": {
          "base_uri": "https://localhost:8080/",
          "height": 1000
        },
        "outputId": "ad94cbc2-eb46-4e03-cd97-da619a4ba6dd"
      },
      "source": [
        "ann.fit(X_train, y_train, batch_size = 32, epochs = 100)"
      ],
      "execution_count": 36,
      "outputs": [
        {
          "output_type": "stream",
          "text": [
            "Epoch 1/100\n",
            "8/8 [==============================] - 0s 2ms/step - loss: 0.7199 - accuracy: 0.5083\n",
            "Epoch 2/100\n",
            "8/8 [==============================] - 0s 1ms/step - loss: 0.6924 - accuracy: 0.5785\n",
            "Epoch 3/100\n",
            "8/8 [==============================] - 0s 1ms/step - loss: 0.6698 - accuracy: 0.6198\n",
            "Epoch 4/100\n",
            "8/8 [==============================] - 0s 1ms/step - loss: 0.6489 - accuracy: 0.6488\n",
            "Epoch 5/100\n",
            "8/8 [==============================] - 0s 1ms/step - loss: 0.6315 - accuracy: 0.6777\n",
            "Epoch 6/100\n",
            "8/8 [==============================] - 0s 1ms/step - loss: 0.6159 - accuracy: 0.6860\n",
            "Epoch 7/100\n",
            "8/8 [==============================] - 0s 2ms/step - loss: 0.6019 - accuracy: 0.7066\n",
            "Epoch 8/100\n",
            "8/8 [==============================] - 0s 1ms/step - loss: 0.5877 - accuracy: 0.7314\n",
            "Epoch 9/100\n",
            "8/8 [==============================] - 0s 1ms/step - loss: 0.5746 - accuracy: 0.7562\n",
            "Epoch 10/100\n",
            "8/8 [==============================] - 0s 1ms/step - loss: 0.5616 - accuracy: 0.7686\n",
            "Epoch 11/100\n",
            "8/8 [==============================] - 0s 2ms/step - loss: 0.5489 - accuracy: 0.7769\n",
            "Epoch 12/100\n",
            "8/8 [==============================] - 0s 1ms/step - loss: 0.5371 - accuracy: 0.7810\n",
            "Epoch 13/100\n",
            "8/8 [==============================] - 0s 1ms/step - loss: 0.5249 - accuracy: 0.7893\n",
            "Epoch 14/100\n",
            "8/8 [==============================] - 0s 1ms/step - loss: 0.5134 - accuracy: 0.7934\n",
            "Epoch 15/100\n",
            "8/8 [==============================] - 0s 2ms/step - loss: 0.5022 - accuracy: 0.8017\n",
            "Epoch 16/100\n",
            "8/8 [==============================] - 0s 2ms/step - loss: 0.4917 - accuracy: 0.8140\n",
            "Epoch 17/100\n",
            "8/8 [==============================] - 0s 2ms/step - loss: 0.4810 - accuracy: 0.8140\n",
            "Epoch 18/100\n",
            "8/8 [==============================] - 0s 2ms/step - loss: 0.4715 - accuracy: 0.8182\n",
            "Epoch 19/100\n",
            "8/8 [==============================] - 0s 1ms/step - loss: 0.4617 - accuracy: 0.8264\n",
            "Epoch 20/100\n",
            "8/8 [==============================] - 0s 1ms/step - loss: 0.4536 - accuracy: 0.8264\n",
            "Epoch 21/100\n",
            "8/8 [==============================] - 0s 1ms/step - loss: 0.4459 - accuracy: 0.8264\n",
            "Epoch 22/100\n",
            "8/8 [==============================] - 0s 1ms/step - loss: 0.4384 - accuracy: 0.8264\n",
            "Epoch 23/100\n",
            "8/8 [==============================] - 0s 2ms/step - loss: 0.4313 - accuracy: 0.8347\n",
            "Epoch 24/100\n",
            "8/8 [==============================] - 0s 2ms/step - loss: 0.4257 - accuracy: 0.8347\n",
            "Epoch 25/100\n",
            "8/8 [==============================] - 0s 1ms/step - loss: 0.4202 - accuracy: 0.8306\n",
            "Epoch 26/100\n",
            "8/8 [==============================] - 0s 2ms/step - loss: 0.4146 - accuracy: 0.8306\n",
            "Epoch 27/100\n",
            "8/8 [==============================] - 0s 1ms/step - loss: 0.4100 - accuracy: 0.8347\n",
            "Epoch 28/100\n",
            "8/8 [==============================] - 0s 1ms/step - loss: 0.4055 - accuracy: 0.8347\n",
            "Epoch 29/100\n",
            "8/8 [==============================] - 0s 1ms/step - loss: 0.4010 - accuracy: 0.8347\n",
            "Epoch 30/100\n",
            "8/8 [==============================] - 0s 2ms/step - loss: 0.3965 - accuracy: 0.8347\n",
            "Epoch 31/100\n",
            "8/8 [==============================] - 0s 1ms/step - loss: 0.3922 - accuracy: 0.8430\n",
            "Epoch 32/100\n",
            "8/8 [==============================] - 0s 2ms/step - loss: 0.3879 - accuracy: 0.8430\n",
            "Epoch 33/100\n",
            "8/8 [==============================] - 0s 1ms/step - loss: 0.3841 - accuracy: 0.8430\n",
            "Epoch 34/100\n",
            "8/8 [==============================] - 0s 2ms/step - loss: 0.3800 - accuracy: 0.8430\n",
            "Epoch 35/100\n",
            "8/8 [==============================] - 0s 2ms/step - loss: 0.3763 - accuracy: 0.8471\n",
            "Epoch 36/100\n",
            "8/8 [==============================] - 0s 2ms/step - loss: 0.3729 - accuracy: 0.8471\n",
            "Epoch 37/100\n",
            "8/8 [==============================] - 0s 2ms/step - loss: 0.3691 - accuracy: 0.8471\n",
            "Epoch 38/100\n",
            "8/8 [==============================] - 0s 2ms/step - loss: 0.3664 - accuracy: 0.8471\n",
            "Epoch 39/100\n",
            "8/8 [==============================] - 0s 3ms/step - loss: 0.3628 - accuracy: 0.8512\n",
            "Epoch 40/100\n",
            "8/8 [==============================] - 0s 2ms/step - loss: 0.3596 - accuracy: 0.8554\n",
            "Epoch 41/100\n",
            "8/8 [==============================] - 0s 2ms/step - loss: 0.3566 - accuracy: 0.8595\n",
            "Epoch 42/100\n",
            "8/8 [==============================] - 0s 2ms/step - loss: 0.3540 - accuracy: 0.8636\n",
            "Epoch 43/100\n",
            "8/8 [==============================] - 0s 2ms/step - loss: 0.3512 - accuracy: 0.8636\n",
            "Epoch 44/100\n",
            "8/8 [==============================] - 0s 2ms/step - loss: 0.3487 - accuracy: 0.8636\n",
            "Epoch 45/100\n",
            "8/8 [==============================] - 0s 2ms/step - loss: 0.3459 - accuracy: 0.8636\n",
            "Epoch 46/100\n",
            "8/8 [==============================] - 0s 2ms/step - loss: 0.3435 - accuracy: 0.8636\n",
            "Epoch 47/100\n",
            "8/8 [==============================] - 0s 2ms/step - loss: 0.3412 - accuracy: 0.8636\n",
            "Epoch 48/100\n",
            "8/8 [==============================] - 0s 2ms/step - loss: 0.3385 - accuracy: 0.8678\n",
            "Epoch 49/100\n",
            "8/8 [==============================] - 0s 2ms/step - loss: 0.3361 - accuracy: 0.8678\n",
            "Epoch 50/100\n",
            "8/8 [==============================] - 0s 2ms/step - loss: 0.3341 - accuracy: 0.8719\n",
            "Epoch 51/100\n",
            "8/8 [==============================] - 0s 2ms/step - loss: 0.3317 - accuracy: 0.8719\n",
            "Epoch 52/100\n",
            "8/8 [==============================] - 0s 2ms/step - loss: 0.3293 - accuracy: 0.8760\n",
            "Epoch 53/100\n",
            "8/8 [==============================] - 0s 2ms/step - loss: 0.3271 - accuracy: 0.8760\n",
            "Epoch 54/100\n",
            "8/8 [==============================] - 0s 2ms/step - loss: 0.3249 - accuracy: 0.8802\n",
            "Epoch 55/100\n",
            "8/8 [==============================] - 0s 2ms/step - loss: 0.3229 - accuracy: 0.8843\n",
            "Epoch 56/100\n",
            "8/8 [==============================] - 0s 2ms/step - loss: 0.3210 - accuracy: 0.8926\n",
            "Epoch 57/100\n",
            "8/8 [==============================] - 0s 2ms/step - loss: 0.3190 - accuracy: 0.8926\n",
            "Epoch 58/100\n",
            "8/8 [==============================] - 0s 1ms/step - loss: 0.3170 - accuracy: 0.8926\n",
            "Epoch 59/100\n",
            "8/8 [==============================] - 0s 2ms/step - loss: 0.3151 - accuracy: 0.8926\n",
            "Epoch 60/100\n",
            "8/8 [==============================] - 0s 1ms/step - loss: 0.3133 - accuracy: 0.8926\n",
            "Epoch 61/100\n",
            "8/8 [==============================] - 0s 1ms/step - loss: 0.3115 - accuracy: 0.8926\n",
            "Epoch 62/100\n",
            "8/8 [==============================] - 0s 2ms/step - loss: 0.3097 - accuracy: 0.8884\n",
            "Epoch 63/100\n",
            "8/8 [==============================] - 0s 2ms/step - loss: 0.3080 - accuracy: 0.8926\n",
            "Epoch 64/100\n",
            "8/8 [==============================] - 0s 1ms/step - loss: 0.3065 - accuracy: 0.8967\n",
            "Epoch 65/100\n",
            "8/8 [==============================] - 0s 1ms/step - loss: 0.3050 - accuracy: 0.8967\n",
            "Epoch 66/100\n",
            "8/8 [==============================] - 0s 2ms/step - loss: 0.3035 - accuracy: 0.8967\n",
            "Epoch 67/100\n",
            "8/8 [==============================] - 0s 2ms/step - loss: 0.3015 - accuracy: 0.8967\n",
            "Epoch 68/100\n",
            "8/8 [==============================] - 0s 1ms/step - loss: 0.3002 - accuracy: 0.8967\n",
            "Epoch 69/100\n",
            "8/8 [==============================] - 0s 1ms/step - loss: 0.2986 - accuracy: 0.9008\n",
            "Epoch 70/100\n",
            "8/8 [==============================] - 0s 2ms/step - loss: 0.2970 - accuracy: 0.9008\n",
            "Epoch 71/100\n",
            "8/8 [==============================] - 0s 1ms/step - loss: 0.2955 - accuracy: 0.9008\n",
            "Epoch 72/100\n",
            "8/8 [==============================] - 0s 1ms/step - loss: 0.2944 - accuracy: 0.9050\n",
            "Epoch 73/100\n",
            "8/8 [==============================] - 0s 1ms/step - loss: 0.2931 - accuracy: 0.9050\n",
            "Epoch 74/100\n",
            "8/8 [==============================] - 0s 2ms/step - loss: 0.2917 - accuracy: 0.9050\n",
            "Epoch 75/100\n",
            "8/8 [==============================] - 0s 2ms/step - loss: 0.2902 - accuracy: 0.9050\n",
            "Epoch 76/100\n",
            "8/8 [==============================] - 0s 2ms/step - loss: 0.2890 - accuracy: 0.9050\n",
            "Epoch 77/100\n",
            "8/8 [==============================] - 0s 2ms/step - loss: 0.2878 - accuracy: 0.9050\n",
            "Epoch 78/100\n",
            "8/8 [==============================] - 0s 2ms/step - loss: 0.2868 - accuracy: 0.9050\n",
            "Epoch 79/100\n",
            "8/8 [==============================] - 0s 2ms/step - loss: 0.2853 - accuracy: 0.9008\n",
            "Epoch 80/100\n",
            "8/8 [==============================] - 0s 1ms/step - loss: 0.2844 - accuracy: 0.9008\n",
            "Epoch 81/100\n",
            "8/8 [==============================] - 0s 1ms/step - loss: 0.2832 - accuracy: 0.9008\n",
            "Epoch 82/100\n",
            "8/8 [==============================] - 0s 2ms/step - loss: 0.2822 - accuracy: 0.9008\n",
            "Epoch 83/100\n",
            "8/8 [==============================] - 0s 1ms/step - loss: 0.2813 - accuracy: 0.9008\n",
            "Epoch 84/100\n",
            "8/8 [==============================] - 0s 1ms/step - loss: 0.2803 - accuracy: 0.9008\n",
            "Epoch 85/100\n",
            "8/8 [==============================] - 0s 2ms/step - loss: 0.2794 - accuracy: 0.9008\n",
            "Epoch 86/100\n",
            "8/8 [==============================] - 0s 2ms/step - loss: 0.2782 - accuracy: 0.9008\n",
            "Epoch 87/100\n",
            "8/8 [==============================] - 0s 1ms/step - loss: 0.2772 - accuracy: 0.9008\n",
            "Epoch 88/100\n",
            "8/8 [==============================] - 0s 2ms/step - loss: 0.2760 - accuracy: 0.9008\n",
            "Epoch 89/100\n",
            "8/8 [==============================] - 0s 2ms/step - loss: 0.2752 - accuracy: 0.9008\n",
            "Epoch 90/100\n",
            "8/8 [==============================] - 0s 1ms/step - loss: 0.2743 - accuracy: 0.9008\n",
            "Epoch 91/100\n",
            "8/8 [==============================] - 0s 1ms/step - loss: 0.2732 - accuracy: 0.9008\n",
            "Epoch 92/100\n",
            "8/8 [==============================] - 0s 2ms/step - loss: 0.2720 - accuracy: 0.9008\n",
            "Epoch 93/100\n",
            "8/8 [==============================] - 0s 2ms/step - loss: 0.2711 - accuracy: 0.9008\n",
            "Epoch 94/100\n",
            "8/8 [==============================] - 0s 2ms/step - loss: 0.2699 - accuracy: 0.9008\n",
            "Epoch 95/100\n",
            "8/8 [==============================] - 0s 2ms/step - loss: 0.2689 - accuracy: 0.9008\n",
            "Epoch 96/100\n",
            "8/8 [==============================] - 0s 1ms/step - loss: 0.2680 - accuracy: 0.9008\n",
            "Epoch 97/100\n",
            "8/8 [==============================] - 0s 1ms/step - loss: 0.2667 - accuracy: 0.9008\n",
            "Epoch 98/100\n",
            "8/8 [==============================] - 0s 1ms/step - loss: 0.2653 - accuracy: 0.9050\n",
            "Epoch 99/100\n",
            "8/8 [==============================] - 0s 2ms/step - loss: 0.2644 - accuracy: 0.9050\n",
            "Epoch 100/100\n",
            "8/8 [==============================] - 0s 1ms/step - loss: 0.2633 - accuracy: 0.9050\n"
          ],
          "name": "stdout"
        },
        {
          "output_type": "execute_result",
          "data": {
            "text/plain": [
              "<tensorflow.python.keras.callbacks.History at 0x7f114a59c048>"
            ]
          },
          "metadata": {
            "tags": []
          },
          "execution_count": 36
        }
      ]
    },
    {
      "cell_type": "code",
      "metadata": {
        "id": "IaFKvQWjA4xd",
        "colab_type": "code",
        "colab": {
          "base_uri": "https://localhost:8080/",
          "height": 1000
        },
        "outputId": "73541e87-c42d-43ec-889d-90df955e164c"
      },
      "source": [
        "y_pred = ann.predict(X_test)\n",
        "print(y_pred)\n",
        "y_pred = (y_pred > 0.5)\n",
        "print(np.concatenate((y_pred.reshape(len(y_pred), 1),y_test.reshape(len(y_test),1)), axis = 0))\n",
        "print(np.concatenate((y_pred.reshape(len(y_pred), 1),y_test.reshape(len(y_test),1)), axis = 1))"
      ],
      "execution_count": 37,
      "outputs": [
        {
          "output_type": "stream",
          "text": [
            "[[1.7753315e-01]\n",
            " [4.2029205e-01]\n",
            " [4.3343791e-01]\n",
            " [1.2018323e-02]\n",
            " [1.9920313e-01]\n",
            " [1.4453176e-01]\n",
            " [5.3759754e-02]\n",
            " [3.2724261e-02]\n",
            " [1.3783574e-04]\n",
            " [5.5906177e-04]\n",
            " [7.2996956e-01]\n",
            " [9.3234766e-01]\n",
            " [1.5876323e-02]\n",
            " [9.2250013e-01]\n",
            " [9.4487107e-01]\n",
            " [6.5102434e-01]\n",
            " [8.9318454e-03]\n",
            " [9.5157850e-01]\n",
            " [1.7407566e-02]\n",
            " [6.5512037e-01]\n",
            " [9.1462046e-01]\n",
            " [1.3165364e-01]\n",
            " [4.4892758e-02]\n",
            " [9.3524128e-02]\n",
            " [9.3696427e-01]\n",
            " [5.7228535e-01]\n",
            " [6.0843825e-02]\n",
            " [1.6643831e-01]\n",
            " [9.7567809e-01]\n",
            " [8.1078994e-01]\n",
            " [8.2568216e-01]\n",
            " [1.1210442e-03]\n",
            " [9.7756994e-01]\n",
            " [7.1171808e-01]\n",
            " [9.6941340e-01]\n",
            " [4.4801903e-01]\n",
            " [1.9669479e-01]\n",
            " [9.7141182e-01]\n",
            " [8.5428387e-02]\n",
            " [1.7999357e-01]\n",
            " [2.9731405e-01]\n",
            " [8.2331610e-01]\n",
            " [9.1826504e-01]\n",
            " [8.4144086e-02]\n",
            " [4.0452188e-01]\n",
            " [8.5607314e-01]\n",
            " [9.5606345e-01]\n",
            " [6.7316568e-01]\n",
            " [4.0630400e-03]\n",
            " [8.6494470e-01]\n",
            " [9.1434288e-01]\n",
            " [6.7452437e-01]\n",
            " [9.9308181e-01]\n",
            " [6.2331635e-01]\n",
            " [9.9513638e-01]\n",
            " [6.4243406e-02]\n",
            " [9.2290598e-01]\n",
            " [9.4448054e-01]\n",
            " [9.5648557e-01]\n",
            " [9.5827872e-01]\n",
            " [8.1698048e-01]]\n",
            "[[0]\n",
            " [0]\n",
            " [0]\n",
            " [0]\n",
            " [0]\n",
            " [0]\n",
            " [0]\n",
            " [0]\n",
            " [0]\n",
            " [0]\n",
            " [1]\n",
            " [1]\n",
            " [0]\n",
            " [1]\n",
            " [1]\n",
            " [1]\n",
            " [0]\n",
            " [1]\n",
            " [0]\n",
            " [1]\n",
            " [1]\n",
            " [0]\n",
            " [0]\n",
            " [0]\n",
            " [1]\n",
            " [1]\n",
            " [0]\n",
            " [0]\n",
            " [1]\n",
            " [1]\n",
            " [1]\n",
            " [0]\n",
            " [1]\n",
            " [1]\n",
            " [1]\n",
            " [0]\n",
            " [0]\n",
            " [1]\n",
            " [0]\n",
            " [0]\n",
            " [0]\n",
            " [1]\n",
            " [1]\n",
            " [0]\n",
            " [0]\n",
            " [1]\n",
            " [1]\n",
            " [1]\n",
            " [0]\n",
            " [1]\n",
            " [1]\n",
            " [1]\n",
            " [1]\n",
            " [1]\n",
            " [1]\n",
            " [0]\n",
            " [1]\n",
            " [1]\n",
            " [1]\n",
            " [1]\n",
            " [1]\n",
            " [0]\n",
            " [1]\n",
            " [0]\n",
            " [0]\n",
            " [1]\n",
            " [0]\n",
            " [0]\n",
            " [0]\n",
            " [0]\n",
            " [0]\n",
            " [1]\n",
            " [1]\n",
            " [0]\n",
            " [1]\n",
            " [1]\n",
            " [1]\n",
            " [1]\n",
            " [1]\n",
            " [0]\n",
            " [1]\n",
            " [1]\n",
            " [0]\n",
            " [0]\n",
            " [0]\n",
            " [1]\n",
            " [0]\n",
            " [0]\n",
            " [0]\n",
            " [1]\n",
            " [1]\n",
            " [0]\n",
            " [0]\n",
            " [1]\n",
            " [1]\n",
            " [1]\n",
            " [0]\n",
            " [0]\n",
            " [1]\n",
            " [0]\n",
            " [0]\n",
            " [1]\n",
            " [1]\n",
            " [1]\n",
            " [0]\n",
            " [1]\n",
            " [1]\n",
            " [1]\n",
            " [0]\n",
            " [0]\n",
            " [1]\n",
            " [1]\n",
            " [1]\n",
            " [1]\n",
            " [1]\n",
            " [1]\n",
            " [0]\n",
            " [1]\n",
            " [0]\n",
            " [1]\n",
            " [1]\n",
            " [1]]\n",
            "[[0 0]\n",
            " [0 1]\n",
            " [0 0]\n",
            " [0 0]\n",
            " [0 1]\n",
            " [0 0]\n",
            " [0 0]\n",
            " [0 0]\n",
            " [0 0]\n",
            " [0 0]\n",
            " [1 1]\n",
            " [1 1]\n",
            " [0 0]\n",
            " [1 1]\n",
            " [1 1]\n",
            " [1 1]\n",
            " [0 1]\n",
            " [1 1]\n",
            " [0 0]\n",
            " [1 1]\n",
            " [1 1]\n",
            " [0 0]\n",
            " [0 0]\n",
            " [0 0]\n",
            " [1 1]\n",
            " [1 0]\n",
            " [0 0]\n",
            " [0 0]\n",
            " [1 1]\n",
            " [1 1]\n",
            " [1 0]\n",
            " [0 0]\n",
            " [1 1]\n",
            " [1 1]\n",
            " [1 1]\n",
            " [0 0]\n",
            " [0 0]\n",
            " [1 1]\n",
            " [0 0]\n",
            " [0 0]\n",
            " [0 1]\n",
            " [1 1]\n",
            " [1 1]\n",
            " [0 0]\n",
            " [0 1]\n",
            " [1 1]\n",
            " [1 1]\n",
            " [1 0]\n",
            " [0 0]\n",
            " [1 1]\n",
            " [1 1]\n",
            " [1 1]\n",
            " [1 1]\n",
            " [1 1]\n",
            " [1 1]\n",
            " [0 0]\n",
            " [1 1]\n",
            " [1 0]\n",
            " [1 1]\n",
            " [1 1]\n",
            " [1 1]]\n"
          ],
          "name": "stdout"
        }
      ]
    },
    {
      "cell_type": "code",
      "metadata": {
        "id": "byh7Lze0A7_f",
        "colab_type": "code",
        "colab": {
          "base_uri": "https://localhost:8080/",
          "height": 69
        },
        "outputId": "4906763f-ecdb-49cd-9d4f-63be4e6d893f"
      },
      "source": [
        "from sklearn.metrics import confusion_matrix, accuracy_score\n",
        "\n",
        "cm = confusion_matrix(y_test, y_pred)\n",
        "print(cm)\n",
        "accuracy_score(y_test, y_pred)"
      ],
      "execution_count": 38,
      "outputs": [
        {
          "output_type": "stream",
          "text": [
            "[[23  4]\n",
            " [ 5 29]]\n"
          ],
          "name": "stdout"
        },
        {
          "output_type": "execute_result",
          "data": {
            "text/plain": [
              "0.8524590163934426"
            ]
          },
          "metadata": {
            "tags": []
          },
          "execution_count": 38
        }
      ]
    }
  ]
}